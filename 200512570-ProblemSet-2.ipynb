{
 "cells": [
  {
   "cell_type": "markdown",
   "id": "81ef7407",
   "metadata": {},
   "source": [
    "# Question 1"
   ]
  },
  {
   "cell_type": "code",
   "execution_count": 1,
   "id": "1af97a7a",
   "metadata": {},
   "outputs": [
    {
     "name": "stdout",
     "output_type": "stream",
     "text": [
      "None\n",
      "None\n",
      "None\n",
      "6\n"
     ]
    }
   ],
   "source": [
    "a = 0\n",
    "def b():\n",
    "    global a\n",
    "    a = c(a)\n",
    "def c(a):\n",
    "    return a + 2\n",
    "\n",
    "print(b())\n",
    "print(b())\n",
    "print(b())\n",
    "print(a)"
   ]
  },
  {
   "cell_type": "markdown",
   "id": "d53579b0",
   "metadata": {},
   "source": [
    "Initial value of variable a is 0 and is declared as a global variable.\n",
    "When the method b() is called for the first time it executes method c() and a's value is added with 2, the new value of 'a' becomes 2\n",
    "Therefore when the method b() is called for the second and third time the value of 'a' becomes 6"
   ]
  },
  {
   "cell_type": "markdown",
   "id": "8caaaffe",
   "metadata": {},
   "source": [
    "# Question 2"
   ]
  },
  {
   "cell_type": "code",
   "execution_count": 20,
   "id": "8f6c0ab3",
   "metadata": {},
   "outputs": [
    {
     "name": "stdout",
     "output_type": "stream",
     "text": [
      "358\n",
      "\n",
      "File idterm.py not found.\n"
     ]
    }
   ],
   "source": [
    "def fileLength(x):\n",
    "    file_name=x\n",
    "    \n",
    "    if file_name.endswith('.py'):\n",
    "        try:\n",
    "            file = open(file_name)\n",
    "            contents = file.read()\n",
    "            file.close()\n",
    "            print(len(contents))\n",
    "        except:\n",
    "            print(\"File \" + (file_name) + \" not found.\")\n",
    "        else:\n",
    "            print(\"\")\n",
    "\n",
    "fileLength('midterm.py')\n",
    "fileLength('idterm.py')"
   ]
  },
  {
   "cell_type": "markdown",
   "id": "5fe4f40b",
   "metadata": {},
   "source": [
    "# Question 3"
   ]
  },
  {
   "cell_type": "code",
   "execution_count": 5,
   "id": "d73079c2",
   "metadata": {},
   "outputs": [
    {
     "name": "stdout",
     "output_type": "stream",
     "text": [
      "I am a Kangaroo located at coordinates (0,0)\n",
      "['doll', 'firetruck', 'kitten']\n",
      "I am a Kangaroo located at coordinates (3,0)\n"
     ]
    }
   ],
   "source": [
    "# m=Marsupial()\n",
    "# m.put_in_pouch(\"doll\")\n",
    "# m.put_in_pouch(\"firetruck\")\n",
    "# m.put_in_pouch(\"kitten\")\n",
    "# m.pouch_contents('doll','firetruck','kitten')\n",
    "class Marsupial:\n",
    "    def __init__(self):\n",
    "        self.array=[]\n",
    "    def put_in_pouch(self,x):\n",
    "        self.array.append(x)\n",
    "    def pouch_contents(self):\n",
    "        print(self.array)\n",
    "class Kangaroo(Marsupial):\n",
    "    def __init__(self,x_coordinate,y_coordinate):\n",
    "        super().__init__()\n",
    "        self.x=x_coordinate\n",
    "        self.y=y_coordinate\n",
    "    def jump(self,dx,dy):\n",
    "        self.x+=dx\n",
    "        self.y+=dy\n",
    "    def __str__(self):\n",
    "        return \"I am a Kangaroo located at coordinates ({0},{1})\".format(self.x,self.y)\n",
    "k=Kangaroo(0,0)\n",
    "print(k)\n",
    "k.jump(1,0)\n",
    "k.jump(1,0)\n",
    "k.jump(1,0)\n",
    "k.put_in_pouch('doll')\n",
    "k.put_in_pouch('firetruck')\n",
    "k.put_in_pouch('kitten')\n",
    "k.pouch_contents()\n",
    "print(k)"
   ]
  },
  {
   "cell_type": "markdown",
   "id": "c756bc1b",
   "metadata": {},
   "source": [
    "# Question 4"
   ]
  },
  {
   "cell_type": "code",
   "execution_count": 8,
   "id": "aa113a11",
   "metadata": {},
   "outputs": [
    {
     "name": "stdout",
     "output_type": "stream",
     "text": [
      "1\n",
      "10\n",
      "5\n",
      "16\n",
      "8\n",
      "4\n",
      "2\n",
      "1\n"
     ]
    }
   ],
   "source": [
    "def collatz(num):\n",
    "    print(num)\n",
    "    if num == 1:\n",
    "        return \n",
    "    if num % 2 == 0:\n",
    "        return (collatz(num // 2))\n",
    "    if num % 2 == 1:\n",
    "        return(collatz((num * 3) + 1))\n",
    "    else:\n",
    "        print(\"Please enter an Integer value\")\n",
    "        return\n",
    "\n",
    "collatz(1)\n",
    "collatz(10)"
   ]
  },
  {
   "cell_type": "markdown",
   "id": "7c1e1a7a",
   "metadata": {},
   "source": [
    "# Question 5"
   ]
  },
  {
   "cell_type": "code",
   "execution_count": 14,
   "id": "7244a4fa",
   "metadata": {},
   "outputs": [
    {
     "name": "stdout",
     "output_type": "stream",
     "text": [
      " \n",
      " 0  \n",
      " 1  \n",
      " 1  1  \n",
      " 1  0  0  1 "
     ]
    }
   ],
   "source": [
    "def binary(i):\n",
    "    b=' '\n",
    "    b +=str(i%2)           \n",
    "    if(i//2!=0):\n",
    "            binary(i//2)\n",
    "    else:\n",
    "        print(\" \")\n",
    "    print(b,end= ' ')\n",
    "    \n",
    "binary(0)            \n",
    "binary(1)\n",
    "binary(3)\n",
    "binary(9)"
   ]
  },
  {
   "cell_type": "markdown",
   "id": "b3710462",
   "metadata": {},
   "source": [
    "# Question 6"
   ]
  },
  {
   "cell_type": "code",
   "execution_count": 23,
   "id": "8f931d43",
   "metadata": {},
   "outputs": [
    {
     "name": "stdout",
     "output_type": "stream",
     "text": [
      "W3C Mission\n",
      " Principles\n"
     ]
    }
   ],
   "source": [
    "from html.parser import HTMLParser\n",
    "\n",
    "html_txt = False\n",
    "cnt = 0\n",
    "\n",
    "def space_generate(cnt):\n",
    "    space_str = \"\"\n",
    "    for i in range(0,cnt):\n",
    "        space_str += \" \"\n",
    "    return space_str\n",
    "\n",
    "class HeadingParser(HTMLParser):\n",
    "    def handle_starttag(self, tag, data):\n",
    "        global html_txt\n",
    "        if tag in ['h1','h2']:\n",
    "            html_txt = True\n",
    "            \n",
    "    def handle_data(self,data):\n",
    "        global html_txt\n",
    "        global cnt\n",
    "        if html_txt == True:\n",
    "            html_txt = False\n",
    "            new_txt = space_generate(cnt) + data\n",
    "            print(new_txt)\n",
    "            cnt += 1\n",
    "            \n",
    "        \n",
    "infile = open('C:/Users/Chaitanya/Documents/Georgian_BDAT/DATA_PROGRAMMING/Assignments/Problem_Set-2/w3c.txt')\n",
    "text = infile.read()\n",
    "infile.close()\n",
    "nt = HeadingParser()\n",
    "nt.feed(text)"
   ]
  },
  {
   "cell_type": "markdown",
   "id": "7a470125",
   "metadata": {},
   "source": [
    "# Question 8"
   ]
  },
  {
   "cell_type": "markdown",
   "id": "8013119d",
   "metadata": {},
   "source": [
    "--Let us assume the table name to be \"weather_report\"--\n",
    "\n",
    "1. SELECT Temperature FROM weather_report\n",
    "\n",
    "2. SELECT distinct City FROM weather_report\n",
    "\n",
    "3. SELECT * FROM weather_report where Country='India'\n",
    "\n",
    "4. SELECT Rainfall FROM weather_report\n",
    "\n",
    "5. SELECT city,country, season FROM weather_report where rainfall between 200 and 400\n",
    "\n",
    "6. SELECT city, country FROM weather_report where temperature > 20 order by temperature\n",
    "\n",
    "7. SELECT sum(rainfall) as total_rainfall FROM weather_report where city='Cairo'\n",
    "\n",
    "8. SELECT season, sum(rainfall) as total_rainfall FROM weather_report group by season"
   ]
  },
  {
   "cell_type": "markdown",
   "id": "c8815def",
   "metadata": {},
   "source": [
    "# Question 9"
   ]
  },
  {
   "cell_type": "code",
   "execution_count": 15,
   "id": "f7042a87",
   "metadata": {},
   "outputs": [
    {
     "name": "stdout",
     "output_type": "stream",
     "text": [
      "['THE', 'QUICK', 'BROWN', 'FOX', 'JUMPS', 'OVER', 'THE', 'LAZY', 'DOG']\n"
     ]
    }
   ],
   "source": [
    "#9-a\n",
    "words = ['The', 'quick', 'brown', 'fox', 'jumps', 'over', 'the', 'lazy', 'dog']\n",
    "Words_list = [string.upper() for string in words]\n",
    "\n",
    "print(Words_list)"
   ]
  },
  {
   "cell_type": "code",
   "execution_count": 16,
   "id": "a30a9dec",
   "metadata": {},
   "outputs": [
    {
     "name": "stdout",
     "output_type": "stream",
     "text": [
      "['the', 'quick', 'brown', 'fox', 'jumps', 'over', 'the', 'lazy', 'dog']\n"
     ]
    }
   ],
   "source": [
    "#9-b\n",
    "words = ['The', 'quick', 'brown', 'fox', 'jumps', 'over', 'the', 'lazy', 'dog']\n",
    "\n",
    "Words_list = [string.lower() for string in words]\n",
    "\n",
    "print(Words_list)"
   ]
  },
  {
   "cell_type": "code",
   "execution_count": 17,
   "id": "96d421b6",
   "metadata": {},
   "outputs": [
    {
     "name": "stdout",
     "output_type": "stream",
     "text": [
      "Length of the words in the list words is 9\n"
     ]
    }
   ],
   "source": [
    "#9-c\n",
    "words = [3, 5, 5, 3, 5, 4, 3, 4, 3]\n",
    "print(\"Length of the words in the list words is\", len(words))"
   ]
  },
  {
   "cell_type": "code",
   "execution_count": 24,
   "id": "f06dacbd",
   "metadata": {},
   "outputs": [
    {
     "name": "stdout",
     "output_type": "stream",
     "text": [
      "[['THE', 'the', 3], ['QUICK', 'quick', 5], ['BROWN', 'brown', 5], ['FOX', 'fox', 3], ['JUMPS', 'jumps', 5], ['OVER', 'over', 4], ['THE', 'the', 3], ['LAZY', 'lazy', 4], ['DOG', 'dog', 3]]\n"
     ]
    }
   ],
   "source": [
    "#9-d\n",
    "words = ['The', 'quick', 'brown', 'fox', 'jumps', 'over', 'the', 'lazy', 'dog']\n",
    "arr=[]\n",
    "for i in words:\n",
    "    array=[]\n",
    "    array.append (i.upper ())\n",
    "    array.append(i.lower())\n",
    "    array.append(len(i))\n",
    "    arr.append (array)\n",
    "print(arr)"
   ]
  },
  {
   "cell_type": "code",
   "execution_count": 18,
   "id": "ab6ff4f2",
   "metadata": {},
   "outputs": [
    {
     "name": "stdout",
     "output_type": "stream",
     "text": [
      "['quick', 'brown', 'jumps', 'over', 'lazy']\n"
     ]
    }
   ],
   "source": [
    "#9-e\n",
    "words = ['The', 'quick', 'brown', 'fox', 'jumps', 'over', 'the', 'lazy', 'dog']\n",
    "characters = [words for words in words if len(words) >=4]\n",
    "print(characters)"
   ]
  }
 ],
 "metadata": {
  "kernelspec": {
   "display_name": "Python 3 (ipykernel)",
   "language": "python",
   "name": "python3"
  },
  "language_info": {
   "codemirror_mode": {
    "name": "ipython",
    "version": 3
   },
   "file_extension": ".py",
   "mimetype": "text/x-python",
   "name": "python",
   "nbconvert_exporter": "python",
   "pygments_lexer": "ipython3",
   "version": "3.9.12"
  }
 },
 "nbformat": 4,
 "nbformat_minor": 5
}
